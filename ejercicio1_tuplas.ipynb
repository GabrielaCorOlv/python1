{
  "nbformat": 4,
  "nbformat_minor": 0,
  "metadata": {
    "colab": {
      "provenance": []
    },
    "kernelspec": {
      "name": "python3",
      "display_name": "Python 3"
    },
    "language_info": {
      "name": "python"
    }
  },
  "cells": [
    {
      "cell_type": "markdown",
      "source": [
        "1.- Crea una tupla con una longitud de 5. usando diferentes tipos de datos.\n",
        "\n",
        "2.- Cambiar la tupla a lista\n",
        "\n",
        "3.- Crea un diccionario donde la clave sea del 1 al 5 y los elementos los datos de la lista"
      ],
      "metadata": {
        "id": "QeIdo7Rx_Sp4"
      }
    },
    {
      "cell_type": "markdown",
      "source": [
        "## Inciso 1"
      ],
      "metadata": {
        "id": "YqWJ2Ucx_VZz"
      }
    },
    {
      "cell_type": "code",
      "execution_count": 3,
      "metadata": {
        "colab": {
          "base_uri": "https://localhost:8080/"
        },
        "id": "fKgyzrA0-E0M",
        "outputId": "c310999f-11a0-4339-b10a-70b996d36c3c"
      },
      "outputs": [
        {
          "output_type": "execute_result",
          "data": {
            "text/plain": [
              "(['gaby', 2001], True, 1, 6, 8)"
            ]
          },
          "metadata": {},
          "execution_count": 3
        }
      ],
      "source": [
        "tupla = ([\"gaby\",2001], True, 1, 6, 8)\n",
        "tupla"
      ]
    },
    {
      "cell_type": "markdown",
      "source": [
        "## Inciso 2"
      ],
      "metadata": {
        "id": "QYQWuXH2_tYo"
      }
    },
    {
      "cell_type": "code",
      "source": [
        "lista = list(tupla)\n",
        "lista"
      ],
      "metadata": {
        "colab": {
          "base_uri": "https://localhost:8080/"
        },
        "id": "CQfIEucA_vnt",
        "outputId": "0c6515c6-f39f-4fbf-b7a2-139fab1755f1"
      },
      "execution_count": 4,
      "outputs": [
        {
          "output_type": "execute_result",
          "data": {
            "text/plain": [
              "[['gaby', 2001], True, 1, 6, 8]"
            ]
          },
          "metadata": {},
          "execution_count": 4
        }
      ]
    },
    {
      "cell_type": "markdown",
      "source": [
        "## Inciso 3"
      ],
      "metadata": {
        "id": "QOuXI_9A_4Pa"
      }
    },
    {
      "cell_type": "code",
      "source": [
        "diccionario = {}\n",
        "for i in range(5):\n",
        "  diccionario[i+1] = lista[i]\n",
        "\n",
        "diccionario"
      ],
      "metadata": {
        "colab": {
          "base_uri": "https://localhost:8080/"
        },
        "id": "JiEzELBO_ymX",
        "outputId": "c109b688-89fc-4dae-f3d1-8d2b314c39ed"
      },
      "execution_count": 5,
      "outputs": [
        {
          "output_type": "execute_result",
          "data": {
            "text/plain": [
              "{1: ['gaby', 2001], 2: True, 3: 1, 4: 6, 5: 8}"
            ]
          },
          "metadata": {},
          "execution_count": 5
        }
      ]
    }
  ]
}